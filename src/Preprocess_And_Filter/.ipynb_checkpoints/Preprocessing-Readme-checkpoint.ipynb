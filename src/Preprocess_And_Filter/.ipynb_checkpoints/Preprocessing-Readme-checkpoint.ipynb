{
 "cells": [
  {
   "cell_type": "markdown",
   "metadata": {},
   "source": [
    "<h1> Preprocess and Filter Data </h1>\n",
    "\n",
    "This step of the pipeline PIRATE is aimed at preprocessing the blast hits against the non-redundant (NR) database on all the contigs. The script assumes that metacarvel is already run on all the samples in which you would want to identify Phage/prophage elements. To learn how to run metacarvel please check out, https://github.com/marbl/MetaCarvel. After running metacarvel BLAST the contigs against the NR database and then run the following scripts in order for an exploratory analysis of the same. \n",
    "\n",
    "1. **Load_and_Pickle_BLAST_Outputs.py**- This script is aimed at loading the BLAST outputs and save them as Pickle objects for easier loading. \n",
    "\n",
    "2. **Compute_Breadth_of_Coverage.py**- This script computes the breadth of coverage. We use this to primariy identify contigs that are outliers. \n",
    "\n",
    "3. **Analyze_BLAST_Hits.py** - This is an optional script aimed at preparing plots that shows the various BLAST parameters. \n",
    "\n",
    "4. **Preprocess_KRAKEN_Outputs.py** -  We also ran KRAKEN on the contigs to compute taxa labels on the contigs and removed contigs that had a taxa label below family. This did not influence the accuracy of the phage candidate contigs. \n",
    "\n",
    "5. **Identify_Candidate_Phage_Contigs.py** - Based on the coverage scores we have computed in the previous step this script identifies a list of contigs considered for clustering in the subsequent steps. "
   ]
  },
  {
   "cell_type": "code",
   "execution_count": null,
   "metadata": {},
   "outputs": [],
   "source": []
  }
 ],
 "metadata": {
  "kernelspec": {
   "display_name": "Python 3",
   "language": "python",
   "name": "python3"
  },
  "language_info": {
   "codemirror_mode": {
    "name": "ipython",
    "version": 3
   },
   "file_extension": ".py",
   "mimetype": "text/x-python",
   "name": "python",
   "nbconvert_exporter": "python",
   "pygments_lexer": "ipython3",
   "version": "3.7.3"
  }
 },
 "nbformat": 4,
 "nbformat_minor": 2
}
