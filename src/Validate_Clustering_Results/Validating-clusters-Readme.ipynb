{
 "cells": [
  {
   "attachments": {},
   "cell_type": "markdown",
   "metadata": {},
   "source": [
    "<h1>Validating Clusters</h1>\n",
    "\n",
    "To validate clusters we download genes from the Uniprot database using the search keywords 'Phage' and 'integrase genes'. \n",
    "\n",
    "We blast them against the contigs using the BLASTX program. \n",
    "\n",
    "Most of the scripts in the directory is to understand the various clusters and exploratory in nature. \n",
    "\n",
    "For the 208 stool samples from the HMP dataset, we performed the above experiments and we spotted about 80000 contigs in 725 clusters. Of the 725 clusters 624 were non singleton and spotted about 99 clusters with 1500 contigs containing novel phages in them. \n",
    "\n",
    "<table>\n",
    "    <tr>\n",
    "        <td> \n",
    "            <img src=\"../../img/Cluster_Counts_Cophenetic_Distance.png\" width=400/>\n",
    "            <center><figcaption>Identifying the number of clusters.</figcaption><center>\n",
    "        </td>\n",
    "        <td>   \n",
    "        </td>\n",
    "        <td> \n",
    "            <img src=\"../../img/Cluster_Singleton.png\" width=400/> \n",
    "            <center><figcaption>Analysis of Cluster-50</figcaption><center>\n",
    "        </td>\n",
    "    </tr>\n",
    "</table>"
   ]
  },
  {
   "cell_type": "code",
   "execution_count": null,
   "metadata": {},
   "outputs": [],
   "source": []
  }
 ],
 "metadata": {
  "kernelspec": {
   "display_name": "Python 3",
   "language": "python",
   "name": "python3"
  },
  "language_info": {
   "codemirror_mode": {
    "name": "ipython",
    "version": 3
   },
   "file_extension": ".py",
   "mimetype": "text/x-python",
   "name": "python",
   "nbconvert_exporter": "python",
   "pygments_lexer": "ipython3",
   "version": "3.7.3"
  }
 },
 "nbformat": 4,
 "nbformat_minor": 2
}
