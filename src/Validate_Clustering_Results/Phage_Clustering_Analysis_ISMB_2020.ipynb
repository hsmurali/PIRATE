{
 "cells": [
  {
   "cell_type": "code",
   "execution_count": 116,
   "metadata": {},
   "outputs": [],
   "source": [
    "import numpy as np\n",
    "import pandas as pd\n",
    "import matplotlib.pyplot as plt\n",
    "from functools import partial\n",
    "\n",
    "pd.options.mode.chained_assignment = None\n",
    "\n",
    "def Split_Contigs_ID(s, options):\n",
    "    splits = s.split('_')\n",
    "    if options == 'S':\n",
    "        return splits[0]\n",
    "    else:\n",
    "        return \"_\".join(splits[1:])\n"
   ]
  },
  {
   "cell_type": "code",
   "execution_count": 117,
   "metadata": {},
   "outputs": [],
   "source": [
    "df = pd.read_csv('../../Mount/Phage_Discovery_Project/Phage_Candidates_Genes_New.txt',\n",
    "                 names = ['qseqid', 'sseqid', 'pident', 'length', 'mismatch', \n",
    "                          'gapopen', 'qstart', 'qend', 'sstart', 'send', 'evalue', \n",
    "                          'bitscore', 'qlen', 'slen'], sep = '\\t')\n",
    "df_cluster = pd.read_csv('../../Mount/Potential_Phages_Updated/Clustering_Results.csv')\n",
    "df_uniprot_metadata = pd.read_csv( '/Users/harihara/Research-Activities/Data/Uniprot_Meta_Data.csv')\n",
    "df['pident'] = (df['length']-df['mismatch'])/df['slen']*100\n",
    "del df_uniprot_metadata['Integrase']"
   ]
  },
  {
   "cell_type": "code",
   "execution_count": 118,
   "metadata": {},
   "outputs": [
    {
     "name": "stdout",
     "output_type": "stream",
     "text": [
      "6806\n"
     ]
    }
   ],
   "source": [
    "df_uniprot_hits = df[df['pident']>=50.75]\n",
    "print(len(df_uniprot_hits))\n",
    "df_uniprot_hits['SampleID'] = df_uniprot_hits['qseqid'].apply(partial(Split_Contigs_ID, options = 'S'))\n",
    "df_uniprot_hits['ContigID'] = df_uniprot_hits['qseqid'].apply(partial(Split_Contigs_ID, options = 'C'))\n",
    "df_uniprot_hits = df_uniprot_hits.set_index(['SampleID','ContigID'])\n",
    "df_uniprot_hits = df_uniprot_hits[['sseqid', 'qseqid', 'length', 'qlen']]\n",
    "\n",
    "df_cluster['SampleID'] = df_cluster['Contigs'].apply(partial(Split_Contigs_ID, options = 'S'))\n",
    "df_cluster['ContigID'] = df_cluster['Contigs'].apply(partial(Split_Contigs_ID, options = 'C'))\n",
    "df_cluster = df_cluster[['SampleID','ContigID','Contigs','Complete_0.61']]\n",
    "df_cluster_groups = df_cluster.groupby('Complete_0.61').nunique().rename(\n",
    "    columns = {'SampleID':'Samples(Cluster)','Contigs':'#Contigs(Cluster)'})\n",
    "del df_cluster_groups['Complete_0.61'], df_cluster_groups['ContigID']\n",
    "df_cluster_groups = df_cluster_groups.reset_index()\n",
    "\n",
    "df_cluster = df_cluster.set_index(['SampleID','ContigID'])\n",
    "df_uniprot_hits = df_uniprot_hits.join(df_cluster, how = 'left')\n",
    "del df_uniprot_hits['Contigs']\n",
    "df_uniprot_hits = df_uniprot_hits.reset_index()\n",
    "\n",
    "df_uniprot_cluster_counts = df_uniprot_hits[['SampleID','qseqid','Complete_0.61']].groupby(\n",
    "    'Complete_0.61').nunique()\n",
    "del df_uniprot_cluster_counts['Complete_0.61']\n",
    "df_uniprot_cluster_counts = df_uniprot_cluster_counts.rename(columns = {'SampleID':'#Samples(Phages)', \n",
    "                                                            'qseqid':'#Contigs(Phages)'}).reset_index()\n",
    "df_uniprot_hits = pd.merge(df_uniprot_hits, df_cluster_groups, how = 'left', on = ['Complete_0.61'])\n",
    "df_uniprot_hits = pd.merge(df_uniprot_hits, df_uniprot_cluster_counts, how = 'left', on = ['Complete_0.61'])\n",
    "df_uniprot_hits = pd.merge(df_uniprot_hits, df_uniprot_metadata, left_on = ['sseqid'], \n",
    "                           right_on = ['Phage_ID'], how = 'left')\n",
    "\n",
    "#df_uniprot_hits.to_csv('Cluster_Analysis_Phages.csv')"
   ]
  },
  {
   "cell_type": "code",
   "execution_count": 120,
   "metadata": {},
   "outputs": [],
   "source": [
    "df_sample_cluster_analysis = df_uniprot_cluster_counts[['#Samples(Phages)']]\n",
    "df_sample_cluster_analysis = df_sample_cluster_analysis[df_sample_cluster_analysis['#Samples(Phages)'] > 4]\n",
    "df_sample_cluster_analysis['#Samples(Phages)'] = np.ceil(df_sample_cluster_analysis['#Samples(Phages)']/5)*5\n",
    "df_sample_cluster_analysis['Counts'] = 1\n",
    "df_sample_cluster_analysis = df_sample_cluster_analysis.groupby('#Samples(Phages)').sum()\n",
    "df_sample_cluster_analysis.index = df_sample_cluster_analysis.index.astype(int)"
   ]
  },
  {
   "cell_type": "code",
   "execution_count": 121,
   "metadata": {},
   "outputs": [
    {
     "data": {
      "image/png": "[encoded data removed]",
      "text/plain": [
       "<Figure size 864x720 with 1 Axes>"
      ]
     },
     "metadata": {
      "needs_background": "light"
     },
     "output_type": "display_data"
    }
   ],
   "source": [
    "ax = df_sample_cluster_analysis.plot(kind = 'bar', color = 'gray', alpha = 0.6, legend = False, \n",
    "                                     figsize = (12,10), width = 1, edgecolor = 'black')\n",
    "ax.tick_params(axis='both', which='major', labelsize=20)\n",
    "ax.set_ylabel('No of Clusters with Contigs from X Samples', fontsize = 25)\n",
    "ax.set_xlabel('')\n",
    "fig = ax.get_figure()\n",
    "x = np.arange(len(df_sample_cluster_analysis)) + 0.5\n",
    "plt.xticks(x, df_sample_cluster_analysis.index, rotation = 0)\n",
    "fig.tight_layout()\n",
    "fig.savefig('Sample-Specific-vs-Prevelant-Clusters.pdf')"
   ]
  },
  {
   "cell_type": "code",
   "execution_count": 157,
   "metadata": {},
   "outputs": [],
   "source": [
    "cluster_50 = df_uniprot_hits[df_uniprot_hits['Complete_0.61']==23]\n",
    "contigs = cluster_50['qseqid'].unique()\n",
    "gene_ids = []\n",
    "genes_counter = dict()\n",
    "for contig in contigs:\n",
    "    genes = list(cluster_50[cluster_50['qseqid']==contig]['sseqid'])\n",
    "    genes.sort()\n",
    "    gene_ids.append(genes)\n",
    "    for gene in genes:\n",
    "        try:\n",
    "            genes_counter[gene] += 1\n",
    "        except KeyError:\n",
    "            genes_counter[gene] = 1"
   ]
  },
  {
   "cell_type": "code",
   "execution_count": 158,
   "metadata": {},
   "outputs": [],
   "source": [
    "df_genes_50 = pd.DataFrame(data = {'Contigs':contigs, 'Genes':gene_ids})"
   ]
  },
  {
   "cell_type": "code",
   "execution_count": 159,
   "metadata": {},
   "outputs": [],
   "source": [
    "df_genes_50 = df_genes_50.sort_values(by = 'Contigs')"
   ]
  },
  {
   "cell_type": "code",
   "execution_count": 160,
   "metadata": {},
   "outputs": [],
   "source": [
    "df_genes_counter = pd.DataFrame()\n",
    "df_genes_counter['Genes'] = genes_counter.keys()\n",
    "df_genes_counter['Counter'] = genes_counter.values()\n",
    "df_genes_counter.sort_values(by = ['Counter'], ascending = False, inplace = True)\n",
    "df_genes_counter = pd.merge(df_genes_counter, df_uniprot_metadata, left_on= ['Genes'],\n",
    "                            right_on = ['Phage_ID'], how ='left')\n",
    "del df_genes_counter['Phage_ID'], df_genes_counter['Organism Name']"
   ]
  },
  {
   "cell_type": "code",
   "execution_count": 161,
   "metadata": {},
   "outputs": [],
   "source": [
    "df_genes_counter_grouped = df_genes_counter.groupby('Protein Identifier').sum()\n",
    "df_genes_counter_grouped = df_genes_counter_grouped.rename(columns = \n",
    "                                                           {'Counter':'Number of contigs containing the Protein'})"
   ]
  },
  {
   "cell_type": "code",
   "execution_count": 162,
   "metadata": {
    "scrolled": true
   },
   "outputs": [
    {
     "data": {
      "text/html": [
       "<div>\n",
       "<style scoped>\n",
       "    .dataframe tbody tr th:only-of-type {\n",
       "        vertical-align: middle;\n",
       "    }\n",
       "\n",
       "    .dataframe tbody tr th {\n",
       "        vertical-align: top;\n",
       "    }\n",
       "\n",
       "    .dataframe thead th {\n",
       "        text-align: right;\n",
       "    }\n",
       "</style>\n",
       "<table border=\"1\" class=\"dataframe\">\n",
       "  <thead>\n",
       "    <tr style=\"text-align: right;\">\n",
       "      <th></th>\n",
       "      <th>Number of contigs containing the Protein</th>\n",
       "    </tr>\n",
       "    <tr>\n",
       "      <th>Protein Identifier</th>\n",
       "      <th></th>\n",
       "    </tr>\n",
       "  </thead>\n",
       "  <tbody>\n",
       "    <tr>\n",
       "      <th>Integrase</th>\n",
       "      <td>318</td>\n",
       "    </tr>\n",
       "    <tr>\n",
       "      <th>Site-specific recombinase</th>\n",
       "      <td>74</td>\n",
       "    </tr>\n",
       "    <tr>\n",
       "      <th>Integrase/recombinase</th>\n",
       "      <td>60</td>\n",
       "    </tr>\n",
       "    <tr>\n",
       "      <th>Uncharacterized protein</th>\n",
       "      <td>44</td>\n",
       "    </tr>\n",
       "    <tr>\n",
       "      <th>Site-specific integrase</th>\n",
       "      <td>36</td>\n",
       "    </tr>\n",
       "    <tr>\n",
       "      <th>Putative integrase</th>\n",
       "      <td>26</td>\n",
       "    </tr>\n",
       "    <tr>\n",
       "      <th>Site-specific recombinase integrase family protein</th>\n",
       "      <td>21</td>\n",
       "    </tr>\n",
       "    <tr>\n",
       "      <th>Integrase domain protein</th>\n",
       "      <td>9</td>\n",
       "    </tr>\n",
       "    <tr>\n",
       "      <th>DNA integration/recombination/inversion protein</th>\n",
       "      <td>8</td>\n",
       "    </tr>\n",
       "    <tr>\n",
       "      <th>Putative integrase protein</th>\n",
       "      <td>7</td>\n",
       "    </tr>\n",
       "  </tbody>\n",
       "</table>\n",
       "</div>"
      ],
      "text/plain": [
       "                                                    Number of contigs containing the Protein\n",
       "Protein Identifier                                                                          \n",
       "Integrase                                                                                318\n",
       "Site-specific recombinase                                                                 74\n",
       "Integrase/recombinase                                                                     60\n",
       "Uncharacterized protein                                                                   44\n",
       "Site-specific integrase                                                                   36\n",
       "Putative integrase                                                                        26\n",
       "Site-specific recombinase integrase family protein                                        21\n",
       "Integrase domain protein                                                                   9\n",
       "DNA integration/recombination/inversion protein                                            8\n",
       "Putative integrase protein                                                                 7"
      ]
     },
     "execution_count": 162,
     "metadata": {},
     "output_type": "execute_result"
    }
   ],
   "source": [
    "df_genes_counter_grouped.sort_values(by = 'Number of contigs containing the Protein', ascending = False).head(10)"
   ]
  },
  {
   "cell_type": "code",
   "execution_count": null,
   "metadata": {},
   "outputs": [],
   "source": []
  }
 ],
 "metadata": {
  "kernelspec": {
   "display_name": "Python 3",
   "language": "python",
   "name": "python3"
  },
  "language_info": {
   "codemirror_mode": {
    "name": "ipython",
    "version": 3
   },
   "file_extension": ".py",
   "mimetype": "text/x-python",
   "name": "python",
   "nbconvert_exporter": "python",
   "pygments_lexer": "ipython3",
   "version": "3.7.3"
  }
 },
 "nbformat": 4,
 "nbformat_minor": 2
}
